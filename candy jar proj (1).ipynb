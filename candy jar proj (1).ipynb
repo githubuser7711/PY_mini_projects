{
 "cells": [
  {
   "cell_type": "code",
   "execution_count": null,
   "id": "3b8ebcf2",
   "metadata": {},
   "outputs": [],
   "source": []
  },
  {
   "cell_type": "code",
   "execution_count": null,
   "id": "51b3b619",
   "metadata": {},
   "outputs": [],
   "source": [
    "print(\"       WELCOME TO MIKE'S CANDY STORE          \")\n",
    "print(\"Sweet and delicious candies waiting for you!!!\")\n",
    "candies=100\n",
    "price=2\n",
    "choice=\"Y\"\n",
    "while choice==\"Y\" or choice==\"y\":\n",
    "    n=int(input(\"How many candies do you want?\\t\"))\n",
    "    if(n<=candies):\n",
    "        total=n*price\n",
    "        print(\"You have purchased\",n,\"candies. Your price is\",total,\"dollars.\")\n",
    "        print(\"Remaining candies:\",candies-n)\n",
    "        print(\"Thank you for visiting Mike's Candy Store!!!\")\n",
    "        choice=input(\"Want more candies(Y/N):\\t\")\n",
    "    else:\n",
    "        print(\"Sorry!! We don't have enough candies.\")\n",
    "        print(\"Thank you for visiting Mike's Candy Store!!!\")\n",
    "        break\n",
    "    candies=candies-n"
   ]
  },
  {
   "cell_type": "code",
   "execution_count": null,
   "id": "6dcad729",
   "metadata": {},
   "outputs": [],
   "source": []
  }
 ],
 "metadata": {
  "kernelspec": {
   "display_name": "Python 3 (ipykernel)",
   "language": "python",
   "name": "python3"
  },
  "language_info": {
   "codemirror_mode": {
    "name": "ipython",
    "version": 3
   },
   "file_extension": ".py",
   "mimetype": "text/x-python",
   "name": "python",
   "nbconvert_exporter": "python",
   "pygments_lexer": "ipython3",
   "version": "3.11.5"
  }
 },
 "nbformat": 4,
 "nbformat_minor": 5
}
